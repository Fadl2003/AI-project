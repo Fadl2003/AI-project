{
 "cells": [
  {
   "cell_type": "markdown",
   "id": "ebbeaee5-40a7-4e11-a38c-0a981fc0eb6f",
   "metadata": {},
   "source": [
    "# 2- Data Science Tools and Ecosystem"
   ]
  },
  {
   "cell_type": "markdown",
   "id": "919935d5-6f67-438b-8220-8b4f5b092087",
   "metadata": {},
   "source": [
    "3- In this notebook, Data Science Tools and Ecosystem are summarized"
   ]
  },
  {
   "cell_type": "markdown",
   "id": "9d9d2ebb-6955-4ecf-9db8-3afe77ecd8d9",
   "metadata": {},
   "source": [
    "4-Some of the popular languages that Data Scientists use are:"
   ]
  },
  {
   "cell_type": "markdown",
   "id": "aa2e2fc9-694b-49b9-a3fe-c2badc87cae5",
   "metadata": {
    "jp-MarkdownHeadingCollapsed": true
   },
   "source": [
    "Ordered list\n",
    "1. Python\n",
    "2. R\n",
    "3. SQL"
   ]
  },
  {
   "cell_type": "markdown",
   "id": "0784c7a4-37a0-4cc2-b920-03395f5f1df0",
   "metadata": {},
   "source": [
    "5- Some of the commonly used libraries used by Data Scientists include:\n"
   ]
  },
  {
   "cell_type": "markdown",
   "id": "73baee27-7da4-4166-8006-4cc88aa662b9",
   "metadata": {},
   "source": [
    "Ordered list\n",
    "1. TensorFlow States\n",
    "2. andNumPy\n",
    "3. NumPy"
   ]
  },
  {
   "cell_type": "markdown",
   "id": "87dee138-3a6f-4734-b63d-b3d1b833acf7",
   "metadata": {},
   "source": [
    "6- Data Science Tools"
   ]
  },
  {
   "cell_type": "markdown",
   "id": "f2960130-20a5-4a23-b167-b1302439d5c3",
   "metadata": {},
   "source": [
    "| Data Science Tools |\n",
    "| -------------|\n",
    "| SAS |\n",
    "| Apache Spark |\n",
    "| BigML |"
   ]
  },
  {
   "cell_type": "markdown",
   "id": "1f5eb548-11c5-4e41-a674-5fb56d790480",
   "metadata": {},
   "source": [
    "### 7-Below are a few examples of evaluating arithmetic expressions in Python."
   ]
  },
  {
   "cell_type": "code",
   "execution_count": 11,
   "id": "c9a56f66-0c84-4cf2-9478-d1234549f939",
   "metadata": {},
   "outputs": [
    {
     "data": {
      "text/plain": [
       "17"
      ]
     },
     "execution_count": 11,
     "metadata": {},
     "output_type": "execute_result"
    }
   ],
   "source": [
    "# 8- This a simple arithmetic expression to mutiply then add integers\n",
    "(3*4)+5"
   ]
  },
  {
   "cell_type": "code",
   "execution_count": 14,
   "id": "db4db727-d760-4a7d-a3b1-68dd90aeb649",
   "metadata": {},
   "outputs": [
    {
     "name": "stdout",
     "output_type": "stream",
     "text": [
      "Hours=  3.3333333333333335\n"
     ]
    }
   ],
   "source": [
    "# 9- This will convert 200 minutes to hours by diving by 60\n",
    "Hours=200/60\n",
    "print(\"Hours= \",Hours)"
   ]
  },
  {
   "cell_type": "markdown",
   "id": "2fea39c6-6d9c-4e37-bd15-1e71416d5cb7",
   "metadata": {},
   "source": [
    "**10- Objectives:**\n",
    "- Create a Jupyter Notebook\n",
    "- Create markdown cell with title of the notebook\n",
    "- Create a markdown cell for an introduction"
   ]
  },
  {
   "cell_type": "markdown",
   "id": "67b87434-6a32-4309-9364-a3d0050f9dab",
   "metadata": {},
   "source": [
    "## 11- Author\n",
    "\n",
    "Fadl Dahan"
   ]
  },
  {
   "cell_type": "code",
   "execution_count": null,
   "id": "d825f9e3-e47e-4546-b8c5-bf020904e357",
   "metadata": {},
   "outputs": [],
   "source": []
  }
 ],
 "metadata": {
  "kernelspec": {
   "display_name": "Python 3 (ipykernel)",
   "language": "python",
   "name": "python3"
  },
  "language_info": {
   "codemirror_mode": {
    "name": "ipython",
    "version": 3
   },
   "file_extension": ".py",
   "mimetype": "text/x-python",
   "name": "python",
   "nbconvert_exporter": "python",
   "pygments_lexer": "ipython3",
   "version": "3.11.9"
  }
 },
 "nbformat": 4,
 "nbformat_minor": 5
}
